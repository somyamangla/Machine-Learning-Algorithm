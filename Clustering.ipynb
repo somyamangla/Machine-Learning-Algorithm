{
  "nbformat": 4,
  "nbformat_minor": 0,
  "metadata": {
    "colab": {
      "name": "Clustering.ipynb",
      "provenance": [],
      "include_colab_link": true
    },
    "kernelspec": {
      "name": "python3",
      "display_name": "Python 3"
    },
    "language_info": {
      "name": "python"
    }
  },
  "cells": [
    {
      "cell_type": "markdown",
      "metadata": {
        "id": "view-in-github",
        "colab_type": "text"
      },
      "source": [
        "<a href=\"https://colab.research.google.com/github/somyamangla/Machine-Learning-Algorithm/blob/main/Clustering.ipynb\" target=\"_parent\"><img src=\"https://colab.research.google.com/assets/colab-badge.svg\" alt=\"Open In Colab\"/></a>"
      ]
    },
    {
      "cell_type": "markdown",
      "metadata": {
        "id": "BIctaTAoLGzL"
      },
      "source": [
        "# Customer Segmentation (k-Mean clustering)"
      ]
    },
    {
      "cell_type": "code",
      "metadata": {
        "id": "utTmBtCiIcd7"
      },
      "source": [
        "import pandas as pd\n",
        "import numpy as np\n",
        "\n",
        "import matplotlib.pyplot as plt\n",
        "%matplotlib inline\n",
        "\n",
        "import seaborn as sns\n",
        "\n",
        "from sklearn.cluster import KMeans\n"
      ],
      "execution_count": 1,
      "outputs": []
    },
    {
      "cell_type": "code",
      "metadata": {
        "id": "H5-CUcj3LGYT"
      },
      "source": [
        "df = pd.read_csv('https://raw.githubusercontent.com/tirthajyoti/Machine-Learning-with-Python/master/Datasets/Mall_Customers.csv')"
      ],
      "execution_count": 2,
      "outputs": []
    },
    {
      "cell_type": "code",
      "metadata": {
        "colab": {
          "base_uri": "https://localhost:8080/",
          "height": 203
        },
        "id": "V6cRSUTTMLQQ",
        "outputId": "027d2b8e-310f-4100-f1c2-5461ba1e3c5d"
      },
      "source": [
        "df.head()"
      ],
      "execution_count": 3,
      "outputs": [
        {
          "output_type": "execute_result",
          "data": {
            "text/html": [
              "<div>\n",
              "<style scoped>\n",
              "    .dataframe tbody tr th:only-of-type {\n",
              "        vertical-align: middle;\n",
              "    }\n",
              "\n",
              "    .dataframe tbody tr th {\n",
              "        vertical-align: top;\n",
              "    }\n",
              "\n",
              "    .dataframe thead th {\n",
              "        text-align: right;\n",
              "    }\n",
              "</style>\n",
              "<table border=\"1\" class=\"dataframe\">\n",
              "  <thead>\n",
              "    <tr style=\"text-align: right;\">\n",
              "      <th></th>\n",
              "      <th>CustomerID</th>\n",
              "      <th>Gender</th>\n",
              "      <th>Age</th>\n",
              "      <th>Annual Income (k$)</th>\n",
              "      <th>Spending Score (1-100)</th>\n",
              "    </tr>\n",
              "  </thead>\n",
              "  <tbody>\n",
              "    <tr>\n",
              "      <th>0</th>\n",
              "      <td>1</td>\n",
              "      <td>Male</td>\n",
              "      <td>19</td>\n",
              "      <td>15</td>\n",
              "      <td>39</td>\n",
              "    </tr>\n",
              "    <tr>\n",
              "      <th>1</th>\n",
              "      <td>2</td>\n",
              "      <td>Male</td>\n",
              "      <td>21</td>\n",
              "      <td>15</td>\n",
              "      <td>81</td>\n",
              "    </tr>\n",
              "    <tr>\n",
              "      <th>2</th>\n",
              "      <td>3</td>\n",
              "      <td>Female</td>\n",
              "      <td>20</td>\n",
              "      <td>16</td>\n",
              "      <td>6</td>\n",
              "    </tr>\n",
              "    <tr>\n",
              "      <th>3</th>\n",
              "      <td>4</td>\n",
              "      <td>Female</td>\n",
              "      <td>23</td>\n",
              "      <td>16</td>\n",
              "      <td>77</td>\n",
              "    </tr>\n",
              "    <tr>\n",
              "      <th>4</th>\n",
              "      <td>5</td>\n",
              "      <td>Female</td>\n",
              "      <td>31</td>\n",
              "      <td>17</td>\n",
              "      <td>40</td>\n",
              "    </tr>\n",
              "  </tbody>\n",
              "</table>\n",
              "</div>"
            ],
            "text/plain": [
              "   CustomerID  Gender  Age  Annual Income (k$)  Spending Score (1-100)\n",
              "0           1    Male   19                  15                      39\n",
              "1           2    Male   21                  15                      81\n",
              "2           3  Female   20                  16                       6\n",
              "3           4  Female   23                  16                      77\n",
              "4           5  Female   31                  17                      40"
            ]
          },
          "metadata": {},
          "execution_count": 3
        }
      ]
    },
    {
      "cell_type": "code",
      "metadata": {
        "colab": {
          "base_uri": "https://localhost:8080/"
        },
        "id": "buVb5csIMPGw",
        "outputId": "dcc9bc56-8a24-456e-d41e-a956455bccd4"
      },
      "source": [
        "df.shape"
      ],
      "execution_count": 4,
      "outputs": [
        {
          "output_type": "execute_result",
          "data": {
            "text/plain": [
              "(200, 5)"
            ]
          },
          "metadata": {},
          "execution_count": 4
        }
      ]
    },
    {
      "cell_type": "code",
      "metadata": {
        "colab": {
          "base_uri": "https://localhost:8080/"
        },
        "id": "Xq4MW9wDMWQJ",
        "outputId": "bbd40aa0-8d1d-4144-f349-0d26309aca92"
      },
      "source": [
        "df.isnull().sum()"
      ],
      "execution_count": 5,
      "outputs": [
        {
          "output_type": "execute_result",
          "data": {
            "text/plain": [
              "CustomerID                0\n",
              "Gender                    0\n",
              "Age                       0\n",
              "Annual Income (k$)        0\n",
              "Spending Score (1-100)    0\n",
              "dtype: int64"
            ]
          },
          "metadata": {},
          "execution_count": 5
        }
      ]
    },
    {
      "cell_type": "code",
      "metadata": {
        "colab": {
          "base_uri": "https://localhost:8080/"
        },
        "id": "PtRURIyIMcWo",
        "outputId": "84707515-cb0d-4eac-8996-d11a444cf0a6"
      },
      "source": [
        "df.info()"
      ],
      "execution_count": 6,
      "outputs": [
        {
          "output_type": "stream",
          "name": "stdout",
          "text": [
            "<class 'pandas.core.frame.DataFrame'>\n",
            "RangeIndex: 200 entries, 0 to 199\n",
            "Data columns (total 5 columns):\n",
            " #   Column                  Non-Null Count  Dtype \n",
            "---  ------                  --------------  ----- \n",
            " 0   CustomerID              200 non-null    int64 \n",
            " 1   Gender                  200 non-null    object\n",
            " 2   Age                     200 non-null    int64 \n",
            " 3   Annual Income (k$)      200 non-null    int64 \n",
            " 4   Spending Score (1-100)  200 non-null    int64 \n",
            "dtypes: int64(4), object(1)\n",
            "memory usage: 7.9+ KB\n"
          ]
        }
      ]
    },
    {
      "cell_type": "markdown",
      "metadata": {
        "id": "OZrQpwHWMmwW"
      },
      "source": [
        "### Conclusions:\n",
        "\n",
        "\n",
        "*   No null value in the dataset.\n",
        "*   gender is of dtype object, which needs to be taken care of\n",
        "\n"
      ]
    },
    {
      "cell_type": "code",
      "metadata": {
        "colab": {
          "base_uri": "https://localhost:8080/",
          "height": 295
        },
        "id": "XgR4_eC6MeYq",
        "outputId": "ae6e8a8a-e603-4e65-c4e4-2ea52462553f"
      },
      "source": [
        "df.describe()"
      ],
      "execution_count": 7,
      "outputs": [
        {
          "output_type": "execute_result",
          "data": {
            "text/html": [
              "<div>\n",
              "<style scoped>\n",
              "    .dataframe tbody tr th:only-of-type {\n",
              "        vertical-align: middle;\n",
              "    }\n",
              "\n",
              "    .dataframe tbody tr th {\n",
              "        vertical-align: top;\n",
              "    }\n",
              "\n",
              "    .dataframe thead th {\n",
              "        text-align: right;\n",
              "    }\n",
              "</style>\n",
              "<table border=\"1\" class=\"dataframe\">\n",
              "  <thead>\n",
              "    <tr style=\"text-align: right;\">\n",
              "      <th></th>\n",
              "      <th>CustomerID</th>\n",
              "      <th>Age</th>\n",
              "      <th>Annual Income (k$)</th>\n",
              "      <th>Spending Score (1-100)</th>\n",
              "    </tr>\n",
              "  </thead>\n",
              "  <tbody>\n",
              "    <tr>\n",
              "      <th>count</th>\n",
              "      <td>200.000000</td>\n",
              "      <td>200.000000</td>\n",
              "      <td>200.000000</td>\n",
              "      <td>200.000000</td>\n",
              "    </tr>\n",
              "    <tr>\n",
              "      <th>mean</th>\n",
              "      <td>100.500000</td>\n",
              "      <td>38.850000</td>\n",
              "      <td>60.560000</td>\n",
              "      <td>50.200000</td>\n",
              "    </tr>\n",
              "    <tr>\n",
              "      <th>std</th>\n",
              "      <td>57.879185</td>\n",
              "      <td>13.969007</td>\n",
              "      <td>26.264721</td>\n",
              "      <td>25.823522</td>\n",
              "    </tr>\n",
              "    <tr>\n",
              "      <th>min</th>\n",
              "      <td>1.000000</td>\n",
              "      <td>18.000000</td>\n",
              "      <td>15.000000</td>\n",
              "      <td>1.000000</td>\n",
              "    </tr>\n",
              "    <tr>\n",
              "      <th>25%</th>\n",
              "      <td>50.750000</td>\n",
              "      <td>28.750000</td>\n",
              "      <td>41.500000</td>\n",
              "      <td>34.750000</td>\n",
              "    </tr>\n",
              "    <tr>\n",
              "      <th>50%</th>\n",
              "      <td>100.500000</td>\n",
              "      <td>36.000000</td>\n",
              "      <td>61.500000</td>\n",
              "      <td>50.000000</td>\n",
              "    </tr>\n",
              "    <tr>\n",
              "      <th>75%</th>\n",
              "      <td>150.250000</td>\n",
              "      <td>49.000000</td>\n",
              "      <td>78.000000</td>\n",
              "      <td>73.000000</td>\n",
              "    </tr>\n",
              "    <tr>\n",
              "      <th>max</th>\n",
              "      <td>200.000000</td>\n",
              "      <td>70.000000</td>\n",
              "      <td>137.000000</td>\n",
              "      <td>99.000000</td>\n",
              "    </tr>\n",
              "  </tbody>\n",
              "</table>\n",
              "</div>"
            ],
            "text/plain": [
              "       CustomerID         Age  Annual Income (k$)  Spending Score (1-100)\n",
              "count  200.000000  200.000000          200.000000              200.000000\n",
              "mean   100.500000   38.850000           60.560000               50.200000\n",
              "std     57.879185   13.969007           26.264721               25.823522\n",
              "min      1.000000   18.000000           15.000000                1.000000\n",
              "25%     50.750000   28.750000           41.500000               34.750000\n",
              "50%    100.500000   36.000000           61.500000               50.000000\n",
              "75%    150.250000   49.000000           78.000000               73.000000\n",
              "max    200.000000   70.000000          137.000000               99.000000"
            ]
          },
          "metadata": {},
          "execution_count": 7
        }
      ]
    },
    {
      "cell_type": "markdown",
      "metadata": {
        "id": "rl84BuLKM-BZ"
      },
      "source": [
        "#### Conclusion:\n",
        "\n",
        "\n",
        "*   Average age of customer is 38.\n",
        "*   customer that visits mall is having age between 18-70.\n",
        "*   having the avg annual income as 60k$ \n",
        "\n",
        "\n",
        "\n",
        "\n",
        "\n",
        "\n",
        "\n"
      ]
    },
    {
      "cell_type": "code",
      "metadata": {
        "colab": {
          "base_uri": "https://localhost:8080/",
          "height": 514
        },
        "id": "3EsYDEyVM5b0",
        "outputId": "6cdb2c5e-5c5e-48dd-dbe3-62914aa10dbc"
      },
      "source": [
        "plt.figure(figsize = (15,8))\n",
        "sns.countplot(data = df, x = 'Age')"
      ],
      "execution_count": 8,
      "outputs": [
        {
          "output_type": "execute_result",
          "data": {
            "text/plain": [
              "<matplotlib.axes._subplots.AxesSubplot at 0x7f16210a4090>"
            ]
          },
          "metadata": {},
          "execution_count": 8
        },
        {
          "output_type": "display_data",
          "data": {
            "image/png": "[encoded data removed]",
            "text/plain": [
              "<Figure size 1080x576 with 1 Axes>"
            ]
          },
          "metadata": {
            "needs_background": "light"
          }
        }
      ]
    },
    {
      "cell_type": "code",
      "metadata": {
        "colab": {
          "base_uri": "https://localhost:8080/",
          "height": 383
        },
        "id": "0lMyGsrDNoUf",
        "outputId": "ac691fb4-c3e8-4240-bc25-bcca3dd835b0"
      },
      "source": [
        "plt.figure(figsize = (6,8))\n",
        "df.Gender.value_counts().plot(kind = 'pie')\n",
        "plt.legend()\n"
      ],
      "execution_count": 9,
      "outputs": [
        {
          "output_type": "execute_result",
          "data": {
            "text/plain": [
              "<matplotlib.legend.Legend at 0x7f1620e5eed0>"
            ]
          },
          "metadata": {},
          "execution_count": 9
        },
        {
          "output_type": "display_data",
          "data": {
            "image/png": "[encoded data removed]",
            "text/plain": [
              "<Figure size 432x576 with 1 Axes>"
            ]
          },
          "metadata": {}
        }
      ]
    },
    {
      "cell_type": "markdown",
      "metadata": {
        "id": "RVHlF94VOR6-"
      },
      "source": [
        "#### Conclusions:\n",
        "\n",
        "\n",
        "*   number of females > number of males.\n",
        "*   people between age group of 30-36 tend to visit mall more often.\n",
        "\n",
        "\n"
      ]
    },
    {
      "cell_type": "code",
      "metadata": {
        "colab": {
          "base_uri": "https://localhost:8080/",
          "height": 583
        },
        "id": "8NLZu5JIOD0N",
        "outputId": "98c6d536-c7f0-4aed-d5bc-c2a40fc18ae5"
      },
      "source": [
        "# Distribution of income\n",
        "plt.figure(figsize = (15,8))\n",
        "sns.countplot(df['Annual Income (k$)'], data = df)\n",
        "plt.title('Distribution of annual income')"
      ],
      "execution_count": 10,
      "outputs": [
        {
          "output_type": "stream",
          "name": "stderr",
          "text": [
            "/usr/local/lib/python3.7/dist-packages/seaborn/_decorators.py:43: FutureWarning: Pass the following variable as a keyword arg: x. From version 0.12, the only valid positional argument will be `data`, and passing other arguments without an explicit keyword will result in an error or misinterpretation.\n",
            "  FutureWarning\n"
          ]
        },
        {
          "output_type": "execute_result",
          "data": {
            "text/plain": [
              "Text(0.5, 1.0, 'Distribution of annual income')"
            ]
          },
          "metadata": {},
          "execution_count": 10
        },
        {
          "output_type": "display_data",
          "data": {
            "image/png": "[encoded data removed]",
            "text/plain": [
              "<Figure size 1080x576 with 1 Axes>"
            ]
          },
          "metadata": {
            "needs_background": "light"
          }
        }
      ]
    },
    {
      "cell_type": "markdown",
      "metadata": {
        "id": "tf6n5mBtPB2c"
      },
      "source": [
        "### Conclusion:\n",
        "\n",
        "\n",
        "*   the customers that are having the salary of 54k$  and  78k$ are visiting mall more number of times.\n",
        "\n",
        "\n"
      ]
    },
    {
      "cell_type": "code",
      "metadata": {
        "colab": {
          "base_uri": "https://localhost:8080/",
          "height": 405
        },
        "id": "NSxGsjySO60H",
        "outputId": "e06fe745-eac7-4ca1-a50d-0c8446e7be7a"
      },
      "source": [
        "# show the annual income distribution wrt the gender \n",
        "\n",
        "plt.figure(figsize = (6,6))\n",
        "sns.histplot(df, x = 'Annual Income (k$)', hue = 'Gender')"
      ],
      "execution_count": 11,
      "outputs": [
        {
          "output_type": "execute_result",
          "data": {
            "text/plain": [
              "<matplotlib.axes._subplots.AxesSubplot at 0x7f1620521650>"
            ]
          },
          "metadata": {},
          "execution_count": 11
        },
        {
          "output_type": "display_data",
          "data": {
            "image/png": "[encoded data removed]",
            "text/plain": [
              "<Figure size 432x432 with 1 Axes>"
            ]
          },
          "metadata": {
            "needs_background": "light"
          }
        }
      ]
    },
    {
      "cell_type": "markdown",
      "metadata": {
        "id": "fLx4RMMDP3Sc"
      },
      "source": [
        "# ML\n"
      ]
    },
    {
      "cell_type": "code",
      "metadata": {
        "id": "o3a_A6vuPpmv"
      },
      "source": [
        "# label encoding \n",
        "\n",
        "from sklearn.preprocessing import LabelEncoder"
      ],
      "execution_count": 12,
      "outputs": []
    },
    {
      "cell_type": "code",
      "metadata": {
        "id": "V-zr-xq6QAmQ"
      },
      "source": [
        "enc = LabelEncoder()\n"
      ],
      "execution_count": 13,
      "outputs": []
    },
    {
      "cell_type": "code",
      "metadata": {
        "id": "RgylHCjmQJTb"
      },
      "source": [
        "df.Gender = enc.fit_transform(df.Gender)"
      ],
      "execution_count": 14,
      "outputs": []
    },
    {
      "cell_type": "code",
      "metadata": {
        "id": "0LNokZSkQRwT"
      },
      "source": [
        "df.drop('CustomerID', axis = 1, inplace = True)"
      ],
      "execution_count": 15,
      "outputs": []
    },
    {
      "cell_type": "code",
      "metadata": {
        "colab": {
          "base_uri": "https://localhost:8080/",
          "height": 203
        },
        "id": "s9SVew5aQa_-",
        "outputId": "5ed214da-218b-40bd-9368-0fbb9da1c2e4"
      },
      "source": [
        "df.head()"
      ],
      "execution_count": 16,
      "outputs": [
        {
          "output_type": "execute_result",
          "data": {
            "text/html": [
              "<div>\n",
              "<style scoped>\n",
              "    .dataframe tbody tr th:only-of-type {\n",
              "        vertical-align: middle;\n",
              "    }\n",
              "\n",
              "    .dataframe tbody tr th {\n",
              "        vertical-align: top;\n",
              "    }\n",
              "\n",
              "    .dataframe thead th {\n",
              "        text-align: right;\n",
              "    }\n",
              "</style>\n",
              "<table border=\"1\" class=\"dataframe\">\n",
              "  <thead>\n",
              "    <tr style=\"text-align: right;\">\n",
              "      <th></th>\n",
              "      <th>Gender</th>\n",
              "      <th>Age</th>\n",
              "      <th>Annual Income (k$)</th>\n",
              "      <th>Spending Score (1-100)</th>\n",
              "    </tr>\n",
              "  </thead>\n",
              "  <tbody>\n",
              "    <tr>\n",
              "      <th>0</th>\n",
              "      <td>1</td>\n",
              "      <td>19</td>\n",
              "      <td>15</td>\n",
              "      <td>39</td>\n",
              "    </tr>\n",
              "    <tr>\n",
              "      <th>1</th>\n",
              "      <td>1</td>\n",
              "      <td>21</td>\n",
              "      <td>15</td>\n",
              "      <td>81</td>\n",
              "    </tr>\n",
              "    <tr>\n",
              "      <th>2</th>\n",
              "      <td>0</td>\n",
              "      <td>20</td>\n",
              "      <td>16</td>\n",
              "      <td>6</td>\n",
              "    </tr>\n",
              "    <tr>\n",
              "      <th>3</th>\n",
              "      <td>0</td>\n",
              "      <td>23</td>\n",
              "      <td>16</td>\n",
              "      <td>77</td>\n",
              "    </tr>\n",
              "    <tr>\n",
              "      <th>4</th>\n",
              "      <td>0</td>\n",
              "      <td>31</td>\n",
              "      <td>17</td>\n",
              "      <td>40</td>\n",
              "    </tr>\n",
              "  </tbody>\n",
              "</table>\n",
              "</div>"
            ],
            "text/plain": [
              "   Gender  Age  Annual Income (k$)  Spending Score (1-100)\n",
              "0       1   19                  15                      39\n",
              "1       1   21                  15                      81\n",
              "2       0   20                  16                       6\n",
              "3       0   23                  16                      77\n",
              "4       0   31                  17                      40"
            ]
          },
          "metadata": {},
          "execution_count": 16
        }
      ]
    },
    {
      "cell_type": "code",
      "metadata": {
        "id": "5Y6nyo_1Qd2W"
      },
      "source": [
        "lst = []\n",
        "for i in range(1,11):\n",
        "  kmodel = KMeans(n_clusters = i, n_init = 15, max_iter = 500) \n",
        "  kmodel.fit(df)\n",
        "  lst.append(kmodel.inertia_)"
      ],
      "execution_count": 17,
      "outputs": []
    },
    {
      "cell_type": "code",
      "metadata": {
        "colab": {
          "base_uri": "https://localhost:8080/"
        },
        "id": "FF8bd1qaRNY1",
        "outputId": "185e295f-96fd-4ec0-ec6b-1116d7e7e1b9"
      },
      "source": [
        "lst"
      ],
      "execution_count": 18,
      "outputs": [
        {
          "output_type": "execute_result",
          "data": {
            "text/plain": [
              "[308862.06000000006,\n",
              " 212889.44245524297,\n",
              " 143391.59236035682,\n",
              " 104414.67534220166,\n",
              " 75399.61541401483,\n",
              " 58348.64136331505,\n",
              " 51165.18423710792,\n",
              " 44357.326649026654,\n",
              " 40938.426715394104,\n",
              " 38071.139086201154]"
            ]
          },
          "metadata": {},
          "execution_count": 18
        }
      ]
    },
    {
      "cell_type": "code",
      "metadata": {
        "colab": {
          "base_uri": "https://localhost:8080/",
          "height": 265
        },
        "id": "BdpykbcCRUXo",
        "outputId": "1e4cd6a1-ae6d-4f8f-cc03-3da6b9ea4a59"
      },
      "source": [
        "plt.plot(range(1,11), lst, marker = 'o')\n",
        "plt.grid()"
      ],
      "execution_count": 19,
      "outputs": [
        {
          "output_type": "display_data",
          "data": {
            "image/png": "[encoded data removed]",
            "text/plain": [
              "<Figure size 432x288 with 1 Axes>"
            ]
          },
          "metadata": {
            "needs_background": "light"
          }
        }
      ]
    },
    {
      "cell_type": "code",
      "metadata": {
        "id": "1DL36DA9Rjhs"
      },
      "source": [
        "# k = 6"
      ],
      "execution_count": null,
      "outputs": []
    },
    {
      "cell_type": "code",
      "metadata": {
        "id": "mVZKvkMFRtpE"
      },
      "source": [
        "kmodel = KMeans(n_clusters = 6)"
      ],
      "execution_count": 20,
      "outputs": []
    },
    {
      "cell_type": "code",
      "metadata": {
        "id": "0wXEr4q-R0T3",
        "colab": {
          "base_uri": "https://localhost:8080/"
        },
        "outputId": "148ebcc2-c3f5-467f-91fc-42caeb7d9ac7"
      },
      "source": [
        "kmodel.fit(df)"
      ],
      "execution_count": 21,
      "outputs": [
        {
          "output_type": "execute_result",
          "data": {
            "text/plain": [
              "KMeans(algorithm='auto', copy_x=True, init='k-means++', max_iter=300,\n",
              "       n_clusters=6, n_init=10, n_jobs=None, precompute_distances='auto',\n",
              "       random_state=None, tol=0.0001, verbose=0)"
            ]
          },
          "metadata": {},
          "execution_count": 21
        }
      ]
    },
    {
      "cell_type": "code",
      "metadata": {
        "id": "3eriiXA2R2V0"
      },
      "source": [
        "prediction = kmodel.predict(df)"
      ],
      "execution_count": 22,
      "outputs": []
    },
    {
      "cell_type": "code",
      "metadata": {
        "id": "CfGMgMGKR660",
        "colab": {
          "base_uri": "https://localhost:8080/"
        },
        "outputId": "0aabc079-09da-4f98-cda4-088b6d43de78"
      },
      "source": [
        "kmodel.cluster_centers_"
      ],
      "execution_count": 23,
      "outputs": [
        {
          "output_type": "execute_result",
          "data": {
            "text/plain": [
              "array([[ 0.44444444, 56.15555556, 53.37777778, 49.08888889],\n",
              "       [ 0.46153846, 32.69230769, 86.53846154, 82.12820513],\n",
              "       [ 0.57142857, 41.68571429, 88.22857143, 17.28571429],\n",
              "       [ 0.40909091, 25.27272727, 25.72727273, 79.36363636],\n",
              "       [ 0.38095238, 44.14285714, 25.14285714, 19.52380952],\n",
              "       [ 0.34210526, 27.        , 56.65789474, 49.13157895]])"
            ]
          },
          "metadata": {},
          "execution_count": 23
        }
      ]
    },
    {
      "cell_type": "code",
      "metadata": {
        "id": "F_riSeE7R_Og",
        "colab": {
          "base_uri": "https://localhost:8080/"
        },
        "outputId": "2a36d761-5837-41fa-925f-25b3cc61ee1d"
      },
      "source": [
        "len(kmodel.cluster_centers_)"
      ],
      "execution_count": 24,
      "outputs": [
        {
          "output_type": "execute_result",
          "data": {
            "text/plain": [
              "6"
            ]
          },
          "metadata": {},
          "execution_count": 24
        }
      ]
    },
    {
      "cell_type": "code",
      "metadata": {
        "id": "Tn4nRY4PSJ4U"
      },
      "source": [
        "df['clusters'] = prediction"
      ],
      "execution_count": 25,
      "outputs": []
    },
    {
      "cell_type": "code",
      "metadata": {
        "id": "-AWlgZ7tSObg",
        "colab": {
          "base_uri": "https://localhost:8080/",
          "height": 203
        },
        "outputId": "e06c3fb9-77ae-44b3-bfb6-b60b82884121"
      },
      "source": [
        "df.head()"
      ],
      "execution_count": 26,
      "outputs": [
        {
          "output_type": "execute_result",
          "data": {
            "text/html": [
              "<div>\n",
              "<style scoped>\n",
              "    .dataframe tbody tr th:only-of-type {\n",
              "        vertical-align: middle;\n",
              "    }\n",
              "\n",
              "    .dataframe tbody tr th {\n",
              "        vertical-align: top;\n",
              "    }\n",
              "\n",
              "    .dataframe thead th {\n",
              "        text-align: right;\n",
              "    }\n",
              "</style>\n",
              "<table border=\"1\" class=\"dataframe\">\n",
              "  <thead>\n",
              "    <tr style=\"text-align: right;\">\n",
              "      <th></th>\n",
              "      <th>Gender</th>\n",
              "      <th>Age</th>\n",
              "      <th>Annual Income (k$)</th>\n",
              "      <th>Spending Score (1-100)</th>\n",
              "      <th>clusters</th>\n",
              "    </tr>\n",
              "  </thead>\n",
              "  <tbody>\n",
              "    <tr>\n",
              "      <th>0</th>\n",
              "      <td>1</td>\n",
              "      <td>19</td>\n",
              "      <td>15</td>\n",
              "      <td>39</td>\n",
              "      <td>4</td>\n",
              "    </tr>\n",
              "    <tr>\n",
              "      <th>1</th>\n",
              "      <td>1</td>\n",
              "      <td>21</td>\n",
              "      <td>15</td>\n",
              "      <td>81</td>\n",
              "      <td>3</td>\n",
              "    </tr>\n",
              "    <tr>\n",
              "      <th>2</th>\n",
              "      <td>0</td>\n",
              "      <td>20</td>\n",
              "      <td>16</td>\n",
              "      <td>6</td>\n",
              "      <td>4</td>\n",
              "    </tr>\n",
              "    <tr>\n",
              "      <th>3</th>\n",
              "      <td>0</td>\n",
              "      <td>23</td>\n",
              "      <td>16</td>\n",
              "      <td>77</td>\n",
              "      <td>3</td>\n",
              "    </tr>\n",
              "    <tr>\n",
              "      <th>4</th>\n",
              "      <td>0</td>\n",
              "      <td>31</td>\n",
              "      <td>17</td>\n",
              "      <td>40</td>\n",
              "      <td>4</td>\n",
              "    </tr>\n",
              "  </tbody>\n",
              "</table>\n",
              "</div>"
            ],
            "text/plain": [
              "   Gender  Age  Annual Income (k$)  Spending Score (1-100)  clusters\n",
              "0       1   19                  15                      39         4\n",
              "1       1   21                  15                      81         3\n",
              "2       0   20                  16                       6         4\n",
              "3       0   23                  16                      77         3\n",
              "4       0   31                  17                      40         4"
            ]
          },
          "metadata": {},
          "execution_count": 26
        }
      ]
    },
    {
      "cell_type": "code",
      "metadata": {
        "id": "brRiSVi6SPlU",
        "colab": {
          "base_uri": "https://localhost:8080/",
          "height": 296
        },
        "outputId": "db335691-0921-42f1-f678-805d947aface"
      },
      "source": [
        "color = np.array(['darkgray', 'lightsalmon', 'powderblue', 'red', 'yellow', 'black'])\n",
        "sns.scatterplot(x = df['Annual Income (k$)'], y = df['Spending Score (1-100)'], c = color[kmodel.labels_], s = 50)\n"
      ],
      "execution_count": 27,
      "outputs": [
        {
          "output_type": "execute_result",
          "data": {
            "text/plain": [
              "<matplotlib.axes._subplots.AxesSubplot at 0x7f1617b84e50>"
            ]
          },
          "metadata": {},
          "execution_count": 27
        },
        {
          "output_type": "display_data",
          "data": {
            "image/png": "[encoded data removed]",
            "text/plain": [
              "<Figure size 432x288 with 1 Axes>"
            ]
          },
          "metadata": {
            "needs_background": "light"
          }
        }
      ]
    },
    {
      "cell_type": "markdown",
      "metadata": {
        "id": "TaXr7gqhTa_5"
      },
      "source": [
        "### Conclusions:\n",
        "\n",
        "\n",
        "*   red color people have very low income but their expenditure is very high.\n",
        "*   blue color people have high annual income and high expenditure.\n",
        "\n",
        "\n",
        "*   yellow color people have very low income and are spending low.\n",
        "*   pink color people have high annual income and are spending less.\n",
        "\n",
        "\n",
        "*   black and gray color people are spending their whole income.\n",
        "\n",
        "\n",
        "\n",
        "\n",
        "\n",
        "\n"
      ]
    },
    {
      "cell_type": "code",
      "metadata": {
        "id": "mGrPjJiGSnNf"
      },
      "source": [
        "from scipy.cluster.hierarchy import linkage, dendrogram"
      ],
      "execution_count": 28,
      "outputs": []
    },
    {
      "cell_type": "code",
      "metadata": {
        "id": "MfQQuaGsTqDo"
      },
      "source": [
        "var = linkage(df, method = 'ward')"
      ],
      "execution_count": 29,
      "outputs": []
    },
    {
      "cell_type": "code",
      "metadata": {
        "id": "uZ23yxEuTzaf",
        "colab": {
          "base_uri": "https://localhost:8080/",
          "height": 1000
        },
        "outputId": "cae679fb-1ae0-45e3-a652-8c2d05b69b6a"
      },
      "source": [
        "plt.figure(figsize = (20,15))\n",
        "dendrogram(var)"
      ],
      "execution_count": 30,
      "outputs": [
        {
          "output_type": "execute_result",
          "data": {
            "text/plain": [
              "{'color_list': ['g',\n",
              "  'g',\n",
              "  'g',\n",
              "  'g',\n",
              "  'g',\n",
              "  'g',\n",
              "  'g',\n",
              "  'g',\n",
              "  'g',\n",
              "  'g',\n",
              "  'g',\n",
              "  'g',\n",
              "  'g',\n",
              "  'g',\n",
              "  'g',\n",
              "  'g',\n",
              "  'g',\n",
              "  'g',\n",
              "  'g',\n",
              "  'g',\n",
              "  'g',\n",
              "  'g',\n",
              "  'g',\n",
              "  'g',\n",
              "  'g',\n",
              "  'g',\n",
              "  'g',\n",
              "  'g',\n",
              "  'g',\n",
              "  'g',\n",
              "  'g',\n",
              "  'g',\n",
              "  'g',\n",
              "  'g',\n",
              "  'g',\n",
              "  'g',\n",
              "  'g',\n",
              "  'g',\n",
              "  'g',\n",
              "  'g',\n",
              "  'g',\n",
              "  'g',\n",
              "  'g',\n",
              "  'g',\n",
              "  'g',\n",
              "  'g',\n",
              "  'g',\n",
              "  'g',\n",
              "  'g',\n",
              "  'g',\n",
              "  'g',\n",
              "  'g',\n",
              "  'g',\n",
              "  'g',\n",
              "  'g',\n",
              "  'g',\n",
              "  'g',\n",
              "  'g',\n",
              "  'g',\n",
              "  'g',\n",
              "  'g',\n",
              "  'g',\n",
              "  'g',\n",
              "  'g',\n",
              "  'g',\n",
              "  'g',\n",
              "  'g',\n",
              "  'g',\n",
              "  'g',\n",
              "  'g',\n",
              "  'g',\n",
              "  'g',\n",
              "  'g',\n",
              "  'g',\n",
              "  'g',\n",
              "  'g',\n",
              "  'g',\n",
              "  'g',\n",
              "  'g',\n",
              "  'g',\n",
              "  'g',\n",
              "  'g',\n",
              "  'g',\n",
              "  'g',\n",
              "  'g',\n",
              "  'g',\n",
              "  'g',\n",
              "  'g',\n",
              "  'g',\n",
              "  'g',\n",
              "  'g',\n",
              "  'g',\n",
              "  'g',\n",
              "  'g',\n",
              "  'g',\n",
              "  'g',\n",
              "  'g',\n",
              "  'g',\n",
              "  'g',\n",
              "  'g',\n",
              "  'g',\n",
              "  'g',\n",
              "  'g',\n",
              "  'g',\n",
              "  'g',\n",
              "  'g',\n",
              "  'g',\n",
              "  'g',\n",
              "  'g',\n",
              "  'g',\n",
              "  'g',\n",
              "  'g',\n",
              "  'g',\n",
              "  'g',\n",
              "  'g',\n",
              "  'g',\n",
              "  'g',\n",
              "  'g',\n",
              "  'g',\n",
              "  'g',\n",
              "  'g',\n",
              "  'g',\n",
              "  'g',\n",
              "  'g',\n",
              "  'g',\n",
              "  'r',\n",
              "  'r',\n",
              "  'r',\n",
              "  'r',\n",
              "  'r',\n",
              "  'r',\n",
              "  'r',\n",
              "  'r',\n",
              "  'r',\n",
              "  'r',\n",
              "  'r',\n",
              "  'r',\n",
              "  'r',\n",
              "  'r',\n",
              "  'r',\n",
              "  'r',\n",
              "  'r',\n",
              "  'r',\n",
              "  'r',\n",
              "  'r',\n",
              "  'r',\n",
              "  'r',\n",
              "  'r',\n",
              "  'r',\n",
              "  'r',\n",
              "  'r',\n",
              "  'r',\n",
              "  'r',\n",
              "  'r',\n",
              "  'r',\n",
              "  'r',\n",
              "  'r',\n",
              "  'r',\n",
              "  'r',\n",
              "  'r',\n",
              "  'r',\n",
              "  'r',\n",
              "  'r',\n",
              "  'c',\n",
              "  'c',\n",
              "  'c',\n",
              "  'c',\n",
              "  'c',\n",
              "  'c',\n",
              "  'c',\n",
              "  'c',\n",
              "  'c',\n",
              "  'c',\n",
              "  'c',\n",
              "  'c',\n",
              "  'c',\n",
              "  'c',\n",
              "  'c',\n",
              "  'c',\n",
              "  'c',\n",
              "  'c',\n",
              "  'c',\n",
              "  'c',\n",
              "  'c',\n",
              "  'c',\n",
              "  'c',\n",
              "  'c',\n",
              "  'c',\n",
              "  'c',\n",
              "  'c',\n",
              "  'c',\n",
              "  'c',\n",
              "  'c',\n",
              "  'c',\n",
              "  'c',\n",
              "  'c',\n",
              "  'c',\n",
              "  'b',\n",
              "  'b'],\n",
              " 'dcoord': [[0.0, 4.123105625617661, 4.123105625617661, 0.0],\n",
              "  [0.0, 15.198684153570664, 15.198684153570664, 4.123105625617661],\n",
              "  [0.0, 1.7320508075688772, 1.7320508075688772, 0.0],\n",
              "  [0.0, 3.0, 3.0, 0.0],\n",
              "  [1.7320508075688772, 5.477225575051661, 5.477225575051661, 3.0],\n",
              "  [0.0, 6.723094525588644, 6.723094525588644, 5.477225575051661],\n",
              "  [0.0, 6.082762530298219, 6.082762530298219, 0.0],\n",
              "  [0.0, 6.952217871538069, 6.952217871538069, 6.082762530298219],\n",
              "  [0.0, 13.552367566837413, 13.552367566837413, 6.952217871538069],\n",
              "  [6.723094525588644,\n",
              "   19.726462767899708,\n",
              "   19.726462767899708,\n",
              "   13.552367566837413],\n",
              "  [0.0, 7.280109889280518, 7.280109889280518, 0.0],\n",
              "  [0.0, 8.18535277187245, 8.18535277187245, 7.280109889280518],\n",
              "  [0.0, 12.16552506059644, 12.16552506059644, 8.18535277187245],\n",
              "  [0.0, 7.810249675906654, 7.810249675906654, 0.0],\n",
              "  [0.0, 7.937253933193772, 7.937253933193772, 0.0],\n",
              "  [7.810249675906654, 16.15549442140351, 16.15549442140351, 7.937253933193772],\n",
              "  [12.16552506059644,\n",
              "   25.739075352467495,\n",
              "   25.739075352467495,\n",
              "   16.15549442140351],\n",
              "  [19.726462767899708,\n",
              "   43.262423127952054,\n",
              "   43.262423127952054,\n",
              "   25.739075352467495],\n",
              "  [15.198684153570664,\n",
              "   47.414443071333295,\n",
              "   47.414443071333295,\n",
              "   43.262423127952054],\n",
              "  [0.0, 9.16515138991168, 9.16515138991168, 0.0],\n",
              "  [0.0, 13.416407864998737, 13.416407864998737, 9.16515138991168],\n",
              "  [0.0, 7.615773105863909, 7.615773105863909, 0.0],\n",
              "  [0.0, 7.0710678118654755, 7.0710678118654755, 0.0],\n",
              "  [0.0, 13.73559851869101, 13.73559851869101, 7.0710678118654755],\n",
              "  [7.615773105863909,\n",
              "   15.853495934125489,\n",
              "   15.853495934125489,\n",
              "   13.73559851869101],\n",
              "  [13.416407864998737,\n",
              "   29.244657631779518,\n",
              "   29.244657631779518,\n",
              "   15.853495934125489],\n",
              "  [0.0, 7.615773105863909, 7.615773105863909, 0.0],\n",
              "  [0.0, 19.235384061671347, 19.235384061671347, 7.615773105863909],\n",
              "  [0.0, 3.1622776601683795, 3.1622776601683795, 0.0],\n",
              "  [0.0, 9.763879010584539, 9.763879010584539, 3.1622776601683795],\n",
              "  [0.0, 19.485036994233976, 19.485036994233976, 9.763879010584539],\n",
              "  [0.0, 11.224972160321824, 11.224972160321824, 0.0],\n",
              "  [0.0, 5.196152422706632, 5.196152422706632, 0.0],\n",
              "  [0.0, 13.051181300301263, 13.051181300301263, 5.196152422706632],\n",
              "  [11.224972160321824,\n",
              "   22.268063828421784,\n",
              "   22.268063828421784,\n",
              "   13.051181300301263],\n",
              "  [19.485036994233976,\n",
              "   41.849200178205976,\n",
              "   41.849200178205976,\n",
              "   22.268063828421784],\n",
              "  [19.235384061671347,\n",
              "   53.49870195725417,\n",
              "   53.49870195725417,\n",
              "   41.849200178205976],\n",
              "  [29.244657631779518, 82.8117342731894, 82.8117342731894, 53.49870195725417],\n",
              "  [0.0, 3.0, 3.0, 0.0],\n",
              "  [0.0, 4.203173404306163, 4.203173404306163, 3.0],\n",
              "  [0.0, 5.916079783099616, 5.916079783099616, 0.0],\n",
              "  [0.0, 2.449489742783178, 2.449489742783178, 0.0],\n",
              "  [0.0, 2.9439202887759492, 2.9439202887759492, 2.449489742783178],\n",
              "  [0.0, 4.7784237289438165, 4.7784237289438165, 2.9439202887759492],\n",
              "  [0.0, 7.162401831787994, 7.162401831787994, 4.7784237289438165],\n",
              "  [5.916079783099616,\n",
              "   11.144505372604023,\n",
              "   11.144505372604023,\n",
              "   7.162401831787994],\n",
              "  [4.203173404306163,\n",
              "   16.447897535348805,\n",
              "   16.447897535348805,\n",
              "   11.144505372604023],\n",
              "  [0.0, 3.0, 3.0, 0.0],\n",
              "  [0.0, 5.322906474223771, 5.322906474223771, 3.0],\n",
              "  [0.0, 11.711817393840576, 11.711817393840576, 5.322906474223771],\n",
              "  [0.0, 7.0, 7.0, 0.0],\n",
              "  [0.0, 7.280109889280518, 7.280109889280518, 0.0],\n",
              "  [7.0, 10.954451150103324, 10.954451150103324, 7.280109889280518],\n",
              "  [0.0, 12.68857754044952, 12.68857754044952, 0.0],\n",
              "  [10.954451150103324, 23.3238075793812, 23.3238075793812, 12.68857754044952],\n",
              "  [11.711817393840576, 29.57870855869134, 29.57870855869134, 23.3238075793812],\n",
              "  [16.447897535348805,\n",
              "   35.82736384385544,\n",
              "   35.82736384385544,\n",
              "   29.57870855869134],\n",
              "  [0.0, 4.47213595499958, 4.47213595499958, 0.0],\n",
              "  [0.0, 6.164414002968976, 6.164414002968976, 0.0],\n",
              "  [4.47213595499958, 8.77496438739212, 8.77496438739212, 6.164414002968976],\n",
              "  [0.0, 9.055385138137417, 9.055385138137417, 0.0],\n",
              "  [0.0, 19.54482028569206, 19.54482028569206, 9.055385138137417],\n",
              "  [8.77496438739212,\n",
              "   24.701069959474573,\n",
              "   24.701069959474573,\n",
              "   19.54482028569206],\n",
              "  [0.0, 5.196152422706632, 5.196152422706632, 0.0],\n",
              "  [0.0, 2.23606797749979, 2.23606797749979, 0.0],\n",
              "  [0.0, 3.696845502136472, 3.696845502136472, 2.23606797749979],\n",
              "  [0.0, 5.477225575051661, 5.477225575051661, 0.0],\n",
              "  [3.696845502136472,\n",
              "   10.960535266734619,\n",
              "   10.960535266734619,\n",
              "   5.477225575051661],\n",
              "  [0.0, 14.658330964563008, 14.658330964563008, 10.960535266734619],\n",
              "  [5.196152422706632,\n",
              "   19.12677007059303,\n",
              "   19.12677007059303,\n",
              "   14.658330964563008],\n",
              "  [0.0, 3.4641016151377544, 3.4641016151377544, 0.0],\n",
              "  [0.0, 5.773502691896257, 5.773502691896257, 3.4641016151377544],\n",
              "  [0.0, 6.557438524302, 6.557438524302, 0.0],\n",
              "  [5.773502691896257, 15.711991174471384, 15.711991174471384, 6.557438524302],\n",
              "  [0.0, 4.47213595499958, 4.47213595499958, 0.0],\n",
              "  [0.0, 4.242640687119285, 4.242640687119285, 0.0],\n",
              "  [0.0, 7.2571803523590805, 7.2571803523590805, 4.242640687119285],\n",
              "  [4.47213595499958, 9.825137827701623, 9.825137827701623, 7.2571803523590805],\n",
              "  [0.0, 3.1622776601683795, 3.1622776601683795, 0.0],\n",
              "  [0.0, 4.242640687119285, 4.242640687119285, 0.0],\n",
              "  [0.0, 6.48074069840786, 6.48074069840786, 4.242640687119285],\n",
              "  [3.1622776601683795,\n",
              "   11.224972160321824,\n",
              "   11.224972160321824,\n",
              "   6.48074069840786],\n",
              "  [9.825137827701623,\n",
              "   22.441033844277317,\n",
              "   22.441033844277317,\n",
              "   11.224972160321824],\n",
              "  [15.711991174471384,\n",
              "   35.35533905932738,\n",
              "   35.35533905932738,\n",
              "   22.441033844277317],\n",
              "  [19.12677007059303,\n",
              "   51.631006861819166,\n",
              "   51.631006861819166,\n",
              "   35.35533905932738],\n",
              "  [24.701069959474573,\n",
              "   62.778416726015465,\n",
              "   62.778416726015465,\n",
              "   51.631006861819166],\n",
              "  [35.82736384385544,\n",
              "   79.51670683992556,\n",
              "   79.51670683992556,\n",
              "   62.778416726015465],\n",
              "  [0.0, 2.0, 2.0, 0.0],\n",
              "  [0.0, 6.733003292241384, 6.733003292241384, 2.0],\n",
              "  [0.0, 5.830951894845301, 5.830951894845301, 0.0],\n",
              "  [0.0, 8.286535263104037, 8.286535263104037, 5.830951894845301],\n",
              "  [6.733003292241384,\n",
              "   15.695009822658069,\n",
              "   15.695009822658069,\n",
              "   8.286535263104037],\n",
              "  [0.0, 3.872983346207417, 3.872983346207417, 0.0],\n",
              "  [0.0, 11.0, 11.0, 3.872983346207417],\n",
              "  [0.0, 16.401219466856727, 16.401219466856727, 11.0],\n",
              "  [15.695009822658069,\n",
              "   34.60732099811637,\n",
              "   34.60732099811637,\n",
              "   16.401219466856727],\n",
              "  [0.0, 3.605551275463989, 3.605551275463989, 0.0],\n",
              "  [0.0, 6.855654600401044, 6.855654600401044, 3.605551275463989],\n",
              "  [0.0, 9.460443964212251, 9.460443964212251, 6.855654600401044],\n",
              "  [0.0, 5.744562646538029, 5.744562646538029, 0.0],\n",
              "  [0.0, 12.288205727444506, 12.288205727444506, 5.744562646538029],\n",
              "  [9.460443964212251,\n",
              "   30.922714720966624,\n",
              "   30.922714720966624,\n",
              "   12.288205727444506],\n",
              "  [0.0, 2.23606797749979, 2.23606797749979, 0.0],\n",
              "  [0.0, 5.916079783099617, 5.916079783099617, 2.23606797749979],\n",
              "  [0.0, 2.23606797749979, 2.23606797749979, 0.0],\n",
              "  [0.0, 3.8729833462074166, 3.8729833462074166, 2.23606797749979],\n",
              "  [0.0, 5.0, 5.0, 3.8729833462074166],\n",
              "  [0.0, 7.362064927722386, 7.362064927722386, 5.0],\n",
              "  [5.916079783099617,\n",
              "   16.727223320085134,\n",
              "   16.727223320085134,\n",
              "   7.362064927722386],\n",
              "  [0.0, 1.0, 1.0, 0.0],\n",
              "  [0.0, 5.196152422706632, 5.196152422706632, 1.0],\n",
              "  [0.0, 3.7416573867739413, 3.7416573867739413, 0.0],\n",
              "  [0.0, 3.7416573867739413, 3.7416573867739413, 0.0],\n",
              "  [3.7416573867739413,\n",
              "   6.4031242374328485,\n",
              "   6.4031242374328485,\n",
              "   3.7416573867739413],\n",
              "  [0.0, 3.7416573867739413, 3.7416573867739413, 0.0],\n",
              "  [0.0, 5.196152422706632, 5.196152422706632, 0.0],\n",
              "  [3.7416573867739413,\n",
              "   9.137833441248532,\n",
              "   9.137833441248532,\n",
              "   5.196152422706632],\n",
              "  [6.4031242374328485, 16.3783393541592, 16.3783393541592, 9.137833441248532],\n",
              "  [5.196152422706632,\n",
              "   27.503305586453028,\n",
              "   27.503305586453028,\n",
              "   16.3783393541592],\n",
              "  [16.727223320085134,\n",
              "   35.37583583133478,\n",
              "   35.37583583133478,\n",
              "   27.503305586453028],\n",
              "  [30.922714720966624,\n",
              "   60.367148324869596,\n",
              "   60.367148324869596,\n",
              "   35.37583583133478],\n",
              "  [34.60732099811637, 82.4265018372623, 82.4265018372623, 60.367148324869596],\n",
              "  [79.51670683992556,\n",
              "   187.79793775852968,\n",
              "   187.79793775852968,\n",
              "   82.4265018372623],\n",
              "  [82.8117342731894,\n",
              "   241.33387891989784,\n",
              "   241.33387891989784,\n",
              "   187.79793775852968],\n",
              "  [47.414443071333295,\n",
              "   277.42932942318635,\n",
              "   277.42932942318635,\n",
              "   241.33387891989784],\n",
              "  [0.0, 8.426149773176359, 8.426149773176359, 0.0],\n",
              "  [0.0, 18.284784202536635, 18.284784202536635, 8.426149773176359],\n",
              "  [0.0, 1.0, 1.0, 0.0],\n",
              "  [0.0, 2.449489742783178, 2.449489742783178, 0.0],\n",
              "  [0.0, 2.6457513110645907, 2.6457513110645907, 0.0],\n",
              "  [0.0, 4.43471156521669, 4.43471156521669, 2.6457513110645907],\n",
              "  [0.0, 7.438637868140466, 7.438637868140466, 4.43471156521669],\n",
              "  [2.449489742783178, 8.831760866327846, 8.831760866327846, 7.438637868140466],\n",
              "  [1.0, 13.06713434537198, 13.06713434537198, 8.831760866327846],\n",
              "  [0.0, 5.196152422706632, 5.196152422706632, 0.0],\n",
              "  [0.0, 7.3484692283495345, 7.3484692283495345, 0.0],\n",
              "  [5.196152422706632,\n",
              "   13.435028842544401,\n",
              "   13.435028842544401,\n",
              "   7.3484692283495345],\n",
              "  [13.06713434537198,\n",
              "   18.45038391651151,\n",
              "   18.45038391651151,\n",
              "   13.435028842544401],\n",
              "  [0.0, 4.69041575982343, 4.69041575982343, 0.0],\n",
              "  [0.0, 6.164414002968976, 6.164414002968976, 0.0],\n",
              "  [0.0, 11.633285577743433, 11.633285577743433, 6.164414002968976],\n",
              "  [4.69041575982343, 22.80058478782215, 22.80058478782215, 11.633285577743433],\n",
              "  [18.45038391651151, 51.12341852388813, 51.12341852388813, 22.80058478782215],\n",
              "  [0.0, 4.58257569495584, 4.58257569495584, 0.0],\n",
              "  [0.0, 10.908712114635714, 10.908712114635714, 4.58257569495584],\n",
              "  [0.0, 6.48074069840786, 6.48074069840786, 0.0],\n",
              "  [0.0, 5.477225575051661, 5.477225575051661, 0.0],\n",
              "  [0.0, 4.242640687119285, 4.242640687119285, 0.0],\n",
              "  [0.0, 5.8309518948453, 5.8309518948453, 4.242640687119285],\n",
              "  [5.477225575051661, 7.77174369109018, 7.77174369109018, 5.8309518948453],\n",
              "  [6.48074069840786, 10.96227296555913, 10.96227296555913, 7.77174369109018],\n",
              "  [10.908712114635714,\n",
              "   20.214563349935894,\n",
              "   20.214563349935894,\n",
              "   10.96227296555913],\n",
              "  [0.0, 4.47213595499958, 4.47213595499958, 0.0],\n",
              "  [0.0, 8.18535277187245, 8.18535277187245, 0.0],\n",
              "  [4.47213595499958, 10.024968827881711, 10.024968827881711, 8.18535277187245],\n",
              "  [0.0, 3.7416573867739413, 3.7416573867739413, 0.0],\n",
              "  [0.0, 9.273618495495702, 9.273618495495702, 3.7416573867739413],\n",
              "  [0.0, 13.435028842544401, 13.435028842544401, 9.273618495495702],\n",
              "  [0.0, 19.27433526739638, 19.27433526739638, 13.435028842544401],\n",
              "  [10.024968827881711,\n",
              "   28.62885102673719,\n",
              "   28.62885102673719,\n",
              "   19.27433526739638],\n",
              "  [20.214563349935894, 62.8875725690357, 62.8875725690357, 28.62885102673719],\n",
              "  [51.12341852388813, 75.82351119778876, 75.82351119778876, 62.8875725690357],\n",
              "  [18.284784202536635,\n",
              "   105.23277007394557,\n",
              "   105.23277007394557,\n",
              "   75.82351119778876],\n",
              "  [0.0, 13.564659966250536, 13.564659966250536, 0.0],\n",
              "  [0.0, 23.35237318418266, 23.35237318418266, 13.564659966250536],\n",
              "  [0.0, 8.306623862918075, 8.306623862918075, 0.0],\n",
              "  [0.0, 7.416198487095663, 7.416198487095663, 0.0],\n",
              "  [0.0, 13.940349110884322, 13.940349110884322, 7.416198487095663],\n",
              "  [0.0, 18.12916618784953, 18.12916618784953, 13.940349110884322],\n",
              "  [0.0, 25.05194603219478, 25.05194603219478, 18.12916618784953],\n",
              "  [8.306623862918075, 32.33264604080525, 32.33264604080525, 25.05194603219478],\n",
              "  [23.35237318418266, 52.75477861451668, 52.75477861451668, 32.33264604080525],\n",
              "  [0.0, 3.0, 3.0, 0.0],\n",
              "  [0.0, 5.196152422706632, 5.196152422706632, 0.0],\n",
              "  [0.0, 9.146948489341495, 9.146948489341495, 5.196152422706632],\n",
              "  [0.0, 9.60902353693305, 9.60902353693305, 9.146948489341495],\n",
              "  [3.0, 26.814175355583846, 26.814175355583846, 9.60902353693305],\n",
              "  [0.0, 7.874007874011811, 7.874007874011811, 0.0],\n",
              "  [0.0, 12.409673645990857, 12.409673645990857, 0.0],\n",
              "  [7.874007874011811,\n",
              "   17.05872210923198,\n",
              "   17.05872210923198,\n",
              "   12.409673645990857],\n",
              "  [0.0, 5.0, 5.0, 0.0],\n",
              "  [0.0, 9.327379053088816, 9.327379053088816, 0.0],\n",
              "  [0.0, 11.532562594670797, 11.532562594670797, 9.327379053088816],\n",
              "  [5.0, 18.606450494385005, 18.606450494385005, 11.532562594670797],\n",
              "  [0.0, 5.196152422706632, 5.196152422706632, 0.0],\n",
              "  [0.0, 8.306623862918075, 8.306623862918075, 5.196152422706632],\n",
              "  [0.0, 7.54983443527075, 7.54983443527075, 0.0],\n",
              "  [0.0, 4.242640687119285, 4.242640687119285, 0.0],\n",
              "  [0.0, 3.3166247903554, 3.3166247903554, 0.0],\n",
              "  [0.0, 5.0, 5.0, 3.3166247903554],\n",
              "  [4.242640687119285, 17.67484087622856, 17.67484087622856, 5.0],\n",
              "  [7.54983443527075,\n",
              "   24.460463726476767,\n",
              "   24.460463726476767,\n",
              "   17.67484087622856],\n",
              "  [8.306623862918075,\n",
              "   34.34655316455661,\n",
              "   34.34655316455661,\n",
              "   24.460463726476767],\n",
              "  [18.606450494385005, 40.3773864103824, 40.3773864103824, 34.34655316455661],\n",
              "  [17.05872210923198, 47.4326484644372, 47.4326484644372, 40.3773864103824],\n",
              "  [26.814175355583846, 76.24651156817464, 76.24651156817464, 47.4326484644372],\n",
              "  [52.75477861451668, 116.3878736933412, 116.3878736933412, 76.24651156817464],\n",
              "  [105.23277007394557,\n",
              "   397.7943408224123,\n",
              "   397.7943408224123,\n",
              "   116.3878736933412],\n",
              "  [277.42932942318635,\n",
              "   412.0874502711248,\n",
              "   412.0874502711248,\n",
              "   397.7943408224123]],\n",
              " 'icoord': [[15.0, 15.0, 25.0, 25.0],\n",
              "  [5.0, 5.0, 20.0, 20.0],\n",
              "  [45.0, 45.0, 55.0, 55.0],\n",
              "  [65.0, 65.0, 75.0, 75.0],\n",
              "  [50.0, 50.0, 70.0, 70.0],\n",
              "  [35.0, 35.0, 60.0, 60.0],\n",
              "  [105.0, 105.0, 115.0, 115.0],\n",
              "  [95.0, 95.0, 110.0, 110.0],\n",
              "  [85.0, 85.0, 102.5, 102.5],\n",
              "  [47.5, 47.5, 93.75, 93.75],\n",
              "  [145.0, 145.0, 155.0, 155.0],\n",
              "  [135.0, 135.0, 150.0, 150.0],\n",
              "  [125.0, 125.0, 142.5, 142.5],\n",
              "  [165.0, 165.0, 175.0, 175.0],\n",
              "  [185.0, 185.0, 195.0, 195.0],\n",
              "  [170.0, 170.0, 190.0, 190.0],\n",
              "  [133.75, 133.75, 180.0, 180.0],\n",
              "  [70.625, 70.625, 156.875, 156.875],\n",
              "  [12.5, 12.5, 113.75, 113.75],\n",
              "  [215.0, 215.0, 225.0, 225.0],\n",
              "  [205.0, 205.0, 220.0, 220.0],\n",
              "  [235.0, 235.0, 245.0, 245.0],\n",
              "  [265.0, 265.0, 275.0, 275.0],\n",
              "  [255.0, 255.0, 270.0, 270.0],\n",
              "  [240.0, 240.0, 262.5, 262.5],\n",
              "  [212.5, 212.5, 251.25, 251.25],\n",
              "  [295.0, 295.0, 305.0, 305.0],\n",
              "  [285.0, 285.0, 300.0, 300.0],\n",
              "  [335.0, 335.0, 345.0, 345.0],\n",
              "  [325.0, 325.0, 340.0, 340.0],\n",
              "  [315.0, 315.0, 332.5, 332.5],\n",
              "  [355.0, 355.0, 365.0, 365.0],\n",
              "  [385.0, 385.0, 395.0, 395.0],\n",
              "  [375.0, 375.0, 390.0, 390.0],\n",
              "  [360.0, 360.0, 382.5, 382.5],\n",
              "  [323.75, 323.75, 371.25, 371.25],\n",
              "  [292.5, 292.5, 347.5, 347.5],\n",
              "  [231.875, 231.875, 320.0, 320.0],\n",
              "  [415.0, 415.0, 425.0, 425.0],\n",
              "  [405.0, 405.0, 420.0, 420.0],\n",
              "  [435.0, 435.0, 445.0, 445.0],\n",
              "  [485.0, 485.0, 495.0, 495.0],\n",
              "  [475.0, 475.0, 490.0, 490.0],\n",
              "  [465.0, 465.0, 482.5, 482.5],\n",
              "  [455.0, 455.0, 473.75, 473.75],\n",
              "  [440.0, 440.0, 464.375, 464.375],\n",
              "  [412.5, 412.5, 452.1875, 452.1875],\n",
              "  [525.0, 525.0, 535.0, 535.0],\n",
              "  [515.0, 515.0, 530.0, 530.0],\n",
              "  [505.0, 505.0, 522.5, 522.5],\n",
              "  [545.0, 545.0, 555.0, 555.0],\n",
              "  [565.0, 565.0, 575.0, 575.0],\n",
              "  [550.0, 550.0, 570.0, 570.0],\n",
              "  [585.0, 585.0, 595.0, 595.0],\n",
              "  [560.0, 560.0, 590.0, 590.0],\n",
              "  [513.75, 513.75, 575.0, 575.0],\n",
              "  [432.34375, 432.34375, 544.375, 544.375],\n",
              "  [605.0, 605.0, 615.0, 615.0],\n",
              "  [625.0, 625.0, 635.0, 635.0],\n",
              "  [610.0, 610.0, 630.0, 630.0],\n",
              "  [655.0, 655.0, 665.0, 665.0],\n",
              "  [645.0, 645.0, 660.0, 660.0],\n",
              "  [620.0, 620.0, 652.5, 652.5],\n",
              "  [675.0, 675.0, 685.0, 685.0],\n",
              "  [715.0, 715.0, 725.0, 725.0],\n",
              "  [705.0, 705.0, 720.0, 720.0],\n",
              "  [735.0, 735.0, 745.0, 745.0],\n",
              "  [712.5, 712.5, 740.0, 740.0],\n",
              "  [695.0, 695.0, 726.25, 726.25],\n",
              "  [680.0, 680.0, 710.625, 710.625],\n",
              "  [765.0, 765.0, 775.0, 775.0],\n",
              "  [755.0, 755.0, 770.0, 770.0],\n",
              "  [785.0, 785.0, 795.0, 795.0],\n",
              "  [762.5, 762.5, 790.0, 790.0],\n",
              "  [805.0, 805.0, 815.0, 815.0],\n",
              "  [835.0, 835.0, 845.0, 845.0],\n",
              "  [825.0, 825.0, 840.0, 840.0],\n",
              "  [810.0, 810.0, 832.5, 832.5],\n",
              "  [855.0, 855.0, 865.0, 865.0],\n",
              "  [885.0, 885.0, 895.0, 895.0],\n",
              "  [875.0, 875.0, 890.0, 890.0],\n",
              "  [860.0, 860.0, 882.5, 882.5],\n",
              "  [821.25, 821.25, 871.25, 871.25],\n",
              "  [776.25, 776.25, 846.25, 846.25],\n",
              "  [695.3125, 695.3125, 811.25, 811.25],\n",
              "  [636.25, 636.25, 753.28125, 753.28125],\n",
              "  [488.359375, 488.359375, 694.765625, 694.765625],\n",
              "  [915.0, 915.0, 925.0, 925.0],\n",
              "  [905.0, 905.0, 920.0, 920.0],\n",
              "  [945.0, 945.0, 955.0, 955.0],\n",
              "  [935.0, 935.0, 950.0, 950.0],\n",
              "  [912.5, 912.5, 942.5, 942.5],\n",
              "  [985.0, 985.0, 995.0, 995.0],\n",
              "  [975.0, 975.0, 990.0, 990.0],\n",
              "  [965.0, 965.0, 982.5, 982.5],\n",
              "  [927.5, 927.5, 973.75, 973.75],\n",
              "  [1025.0, 1025.0, 1035.0, 1035.0],\n",
              "  [1015.0, 1015.0, 1030.0, 1030.0],\n",
              "  [1005.0, 1005.0, 1022.5, 1022.5],\n",
              "  [1055.0, 1055.0, 1065.0, 1065.0],\n",
              "  [1045.0, 1045.0, 1060.0, 1060.0],\n",
              "  [1013.75, 1013.75, 1052.5, 1052.5],\n",
              "  [1085.0, 1085.0, 1095.0, 1095.0],\n",
              "  [1075.0, 1075.0, 1090.0, 1090.0],\n",
              "  [1135.0, 1135.0, 1145.0, 1145.0],\n",
              "  [1125.0, 1125.0, 1140.0, 1140.0],\n",
              "  [1115.0, 1115.0, 1132.5, 1132.5],\n",
              "  [1105.0, 1105.0, 1123.75, 1123.75],\n",
              "  [1082.5, 1082.5, 1114.375, 1114.375],\n",
              "  [1165.0, 1165.0, 1175.0, 1175.0],\n",
              "  [1155.0, 1155.0, 1170.0, 1170.0],\n",
              "  [1185.0, 1185.0, 1195.0, 1195.0],\n",
              "  [1205.0, 1205.0, 1215.0, 1215.0],\n",
              "  [1190.0, 1190.0, 1210.0, 1210.0],\n",
              "  [1225.0, 1225.0, 1235.0, 1235.0],\n",
              "  [1245.0, 1245.0, 1255.0, 1255.0],\n",
              "  [1230.0, 1230.0, 1250.0, 1250.0],\n",
              "  [1200.0, 1200.0, 1240.0, 1240.0],\n",
              "  [1162.5, 1162.5, 1220.0, 1220.0],\n",
              "  [1098.4375, 1098.4375, 1191.25, 1191.25],\n",
              "  [1033.125, 1033.125, 1144.84375, 1144.84375],\n",
              "  [950.625, 950.625, 1088.984375, 1088.984375],\n",
              "  [591.5625, 591.5625, 1019.8046875, 1019.8046875],\n",
              "  [275.9375, 275.9375, 805.68359375, 805.68359375],\n",
              "  [63.125, 63.125, 540.810546875, 540.810546875],\n",
              "  [1275.0, 1275.0, 1285.0, 1285.0],\n",
              "  [1265.0, 1265.0, 1280.0, 1280.0],\n",
              "  [1295.0, 1295.0, 1305.0, 1305.0],\n",
              "  [1315.0, 1315.0, 1325.0, 1325.0],\n",
              "  [1355.0, 1355.0, 1365.0, 1365.0],\n",
              "  [1345.0, 1345.0, 1360.0, 1360.0],\n",
              "  [1335.0, 1335.0, 1352.5, 1352.5],\n",
              "  [1320.0, 1320.0, 1343.75, 1343.75],\n",
              "  [1300.0, 1300.0, 1331.875, 1331.875],\n",
              "  [1375.0, 1375.0, 1385.0, 1385.0],\n",
              "  [1395.0, 1395.0, 1405.0, 1405.0],\n",
              "  [1380.0, 1380.0, 1400.0, 1400.0],\n",
              "  [1315.9375, 1315.9375, 1390.0, 1390.0],\n",
              "  [1415.0, 1415.0, 1425.0, 1425.0],\n",
              "  [1445.0, 1445.0, 1455.0, 1455.0],\n",
              "  [1435.0, 1435.0, 1450.0, 1450.0],\n",
              "  [1420.0, 1420.0, 1442.5, 1442.5],\n",
              "  [1352.96875, 1352.96875, 1431.25, 1431.25],\n",
              "  [1475.0, 1475.0, 1485.0, 1485.0],\n",
              "  [1465.0, 1465.0, 1480.0, 1480.0],\n",
              "  [1495.0, 1495.0, 1505.0, 1505.0],\n",
              "  [1515.0, 1515.0, 1525.0, 1525.0],\n",
              "  [1545.0, 1545.0, 1555.0, 1555.0],\n",
              "  [1535.0, 1535.0, 1550.0, 1550.0],\n",
              "  [1520.0, 1520.0, 1542.5, 1542.5],\n",
              "  [1500.0, 1500.0, 1531.25, 1531.25],\n",
              "  [1472.5, 1472.5, 1515.625, 1515.625],\n",
              "  [1565.0, 1565.0, 1575.0, 1575.0],\n",
              "  [1585.0, 1585.0, 1595.0, 1595.0],\n",
              "  [1570.0, 1570.0, 1590.0, 1590.0],\n",
              "  [1635.0, 1635.0, 1645.0, 1645.0],\n",
              "  [1625.0, 1625.0, 1640.0, 1640.0],\n",
              "  [1615.0, 1615.0, 1632.5, 1632.5],\n",
              "  [1605.0, 1605.0, 1623.75, 1623.75],\n",
              "  [1580.0, 1580.0, 1614.375, 1614.375],\n",
              "  [1494.0625, 1494.0625, 1597.1875, 1597.1875],\n",
              "  [1392.109375, 1392.109375, 1545.625, 1545.625],\n",
              "  [1272.5, 1272.5, 1468.8671875, 1468.8671875],\n",
              "  [1665.0, 1665.0, 1675.0, 1675.0],\n",
              "  [1655.0, 1655.0, 1670.0, 1670.0],\n",
              "  [1685.0, 1685.0, 1695.0, 1695.0],\n",
              "  [1735.0, 1735.0, 1745.0, 1745.0],\n",
              "  [1725.0, 1725.0, 1740.0, 1740.0],\n",
              "  [1715.0, 1715.0, 1732.5, 1732.5],\n",
              "  [1705.0, 1705.0, 1723.75, 1723.75],\n",
              "  [1690.0, 1690.0, 1714.375, 1714.375],\n",
              "  [1662.5, 1662.5, 1702.1875, 1702.1875],\n",
              "  [1755.0, 1755.0, 1765.0, 1765.0],\n",
              "  [1795.0, 1795.0, 1805.0, 1805.0],\n",
              "  [1785.0, 1785.0, 1800.0, 1800.0],\n",
              "  [1775.0, 1775.0, 1792.5, 1792.5],\n",
              "  [1760.0, 1760.0, 1783.75, 1783.75],\n",
              "  [1815.0, 1815.0, 1825.0, 1825.0],\n",
              "  [1835.0, 1835.0, 1845.0, 1845.0],\n",
              "  [1820.0, 1820.0, 1840.0, 1840.0],\n",
              "  [1855.0, 1855.0, 1865.0, 1865.0],\n",
              "  [1885.0, 1885.0, 1895.0, 1895.0],\n",
              "  [1875.0, 1875.0, 1890.0, 1890.0],\n",
              "  [1860.0, 1860.0, 1882.5, 1882.5],\n",
              "  [1915.0, 1915.0, 1925.0, 1925.0],\n",
              "  [1905.0, 1905.0, 1920.0, 1920.0],\n",
              "  [1935.0, 1935.0, 1945.0, 1945.0],\n",
              "  [1955.0, 1955.0, 1965.0, 1965.0],\n",
              "  [1985.0, 1985.0, 1995.0, 1995.0],\n",
              "  [1975.0, 1975.0, 1990.0, 1990.0],\n",
              "  [1960.0, 1960.0, 1982.5, 1982.5],\n",
              "  [1940.0, 1940.0, 1971.25, 1971.25],\n",
              "  [1912.5, 1912.5, 1955.625, 1955.625],\n",
              "  [1871.25, 1871.25, 1934.0625, 1934.0625],\n",
              "  [1830.0, 1830.0, 1902.65625, 1902.65625],\n",
              "  [1771.875, 1771.875, 1866.328125, 1866.328125],\n",
              "  [1682.34375, 1682.34375, 1819.1015625, 1819.1015625],\n",
              "  [1370.68359375, 1370.68359375, 1750.72265625, 1750.72265625],\n",
              "  [301.9677734375, 301.9677734375, 1560.703125, 1560.703125]],\n",
              " 'ivl': ['7',\n",
              "  '11',\n",
              "  '19',\n",
              "  '1',\n",
              "  '3',\n",
              "  '5',\n",
              "  '13',\n",
              "  '15',\n",
              "  '17',\n",
              "  '9',\n",
              "  '21',\n",
              "  '23',\n",
              "  '37',\n",
              "  '31',\n",
              "  '35',\n",
              "  '39',\n",
              "  '33',\n",
              "  '41',\n",
              "  '25',\n",
              "  '29',\n",
              "  '8',\n",
              "  '10',\n",
              "  '12',\n",
              "  '30',\n",
              "  '32',\n",
              "  '22',\n",
              "  '24',\n",
              "  '34',\n",
              "  '2',\n",
              "  '6',\n",
              "  '14',\n",
              "  '0',\n",
              "  '4',\n",
              "  '16',\n",
              "  '20',\n",
              "  '36',\n",
              "  '38',\n",
              "  '18',\n",
              "  '26',\n",
              "  '28',\n",
              "  '79',\n",
              "  '83',\n",
              "  '85',\n",
              "  '107',\n",
              "  '118',\n",
              "  '98',\n",
              "  '89',\n",
              "  '101',\n",
              "  '92',\n",
              "  '96',\n",
              "  '86',\n",
              "  '104',\n",
              "  '117',\n",
              "  '119',\n",
              "  '66',\n",
              "  '76',\n",
              "  '77',\n",
              "  '81',\n",
              "  '88',\n",
              "  '122',\n",
              "  '54',\n",
              "  '59',\n",
              "  '55',\n",
              "  '71',\n",
              "  '40',\n",
              "  '42',\n",
              "  '44',\n",
              "  '90',\n",
              "  '102',\n",
              "  '82',\n",
              "  '110',\n",
              "  '106',\n",
              "  '109',\n",
              "  '108',\n",
              "  '116',\n",
              "  '46',\n",
              "  '50',\n",
              "  '56',\n",
              "  '53',\n",
              "  '63',\n",
              "  '74',\n",
              "  '80',\n",
              "  '73',\n",
              "  '64',\n",
              "  '72',\n",
              "  '60',\n",
              "  '70',\n",
              "  '57',\n",
              "  '62',\n",
              "  '67',\n",
              "  '47',\n",
              "  '48',\n",
              "  '49',\n",
              "  '69',\n",
              "  '52',\n",
              "  '58',\n",
              "  '27',\n",
              "  '45',\n",
              "  '43',\n",
              "  '51',\n",
              "  '94',\n",
              "  '93',\n",
              "  '112',\n",
              "  '121',\n",
              "  '142',\n",
              "  '124',\n",
              "  '132',\n",
              "  '91',\n",
              "  '100',\n",
              "  '105',\n",
              "  '111',\n",
              "  '99',\n",
              "  '113',\n",
              "  '114',\n",
              "  '115',\n",
              "  '61',\n",
              "  '65',\n",
              "  '68',\n",
              "  '75',\n",
              "  '78',\n",
              "  '84',\n",
              "  '87',\n",
              "  '95',\n",
              "  '97',\n",
              "  '103',\n",
              "  '120',\n",
              "  '199',\n",
              "  '195',\n",
              "  '197',\n",
              "  '129',\n",
              "  '131',\n",
              "  '147',\n",
              "  '159',\n",
              "  '125',\n",
              "  '139',\n",
              "  '133',\n",
              "  '137',\n",
              "  '157',\n",
              "  '161',\n",
              "  '153',\n",
              "  '165',\n",
              "  '187',\n",
              "  '191',\n",
              "  '169',\n",
              "  '171',\n",
              "  '177',\n",
              "  '151',\n",
              "  '123',\n",
              "  '127',\n",
              "  '145',\n",
              "  '163',\n",
              "  '135',\n",
              "  '155',\n",
              "  '141',\n",
              "  '143',\n",
              "  '149',\n",
              "  '167',\n",
              "  '173',\n",
              "  '175',\n",
              "  '179',\n",
              "  '193',\n",
              "  '185',\n",
              "  '189',\n",
              "  '181',\n",
              "  '183',\n",
              "  '198',\n",
              "  '194',\n",
              "  '196',\n",
              "  '180',\n",
              "  '184',\n",
              "  '192',\n",
              "  '186',\n",
              "  '190',\n",
              "  '182',\n",
              "  '188',\n",
              "  '156',\n",
              "  '158',\n",
              "  '162',\n",
              "  '144',\n",
              "  '134',\n",
              "  '138',\n",
              "  '126',\n",
              "  '146',\n",
              "  '160',\n",
              "  '164',\n",
              "  '170',\n",
              "  '172',\n",
              "  '148',\n",
              "  '166',\n",
              "  '168',\n",
              "  '174',\n",
              "  '176',\n",
              "  '178',\n",
              "  '128',\n",
              "  '140',\n",
              "  '130',\n",
              "  '136',\n",
              "  '154',\n",
              "  '150',\n",
              "  '152'],\n",
              " 'leaves': [7,\n",
              "  11,\n",
              "  19,\n",
              "  1,\n",
              "  3,\n",
              "  5,\n",
              "  13,\n",
              "  15,\n",
              "  17,\n",
              "  9,\n",
              "  21,\n",
              "  23,\n",
              "  37,\n",
              "  31,\n",
              "  35,\n",
              "  39,\n",
              "  33,\n",
              "  41,\n",
              "  25,\n",
              "  29,\n",
              "  8,\n",
              "  10,\n",
              "  12,\n",
              "  30,\n",
              "  32,\n",
              "  22,\n",
              "  24,\n",
              "  34,\n",
              "  2,\n",
              "  6,\n",
              "  14,\n",
              "  0,\n",
              "  4,\n",
              "  16,\n",
              "  20,\n",
              "  36,\n",
              "  38,\n",
              "  18,\n",
              "  26,\n",
              "  28,\n",
              "  79,\n",
              "  83,\n",
              "  85,\n",
              "  107,\n",
              "  118,\n",
              "  98,\n",
              "  89,\n",
              "  101,\n",
              "  92,\n",
              "  96,\n",
              "  86,\n",
              "  104,\n",
              "  117,\n",
              "  119,\n",
              "  66,\n",
              "  76,\n",
              "  77,\n",
              "  81,\n",
              "  88,\n",
              "  122,\n",
              "  54,\n",
              "  59,\n",
              "  55,\n",
              "  71,\n",
              "  40,\n",
              "  42,\n",
              "  44,\n",
              "  90,\n",
              "  102,\n",
              "  82,\n",
              "  110,\n",
              "  106,\n",
              "  109,\n",
              "  108,\n",
              "  116,\n",
              "  46,\n",
              "  50,\n",
              "  56,\n",
              "  53,\n",
              "  63,\n",
              "  74,\n",
              "  80,\n",
              "  73,\n",
              "  64,\n",
              "  72,\n",
              "  60,\n",
              "  70,\n",
              "  57,\n",
              "  62,\n",
              "  67,\n",
              "  47,\n",
              "  48,\n",
              "  49,\n",
              "  69,\n",
              "  52,\n",
              "  58,\n",
              "  27,\n",
              "  45,\n",
              "  43,\n",
              "  51,\n",
              "  94,\n",
              "  93,\n",
              "  112,\n",
              "  121,\n",
              "  142,\n",
              "  124,\n",
              "  132,\n",
              "  91,\n",
              "  100,\n",
              "  105,\n",
              "  111,\n",
              "  99,\n",
              "  113,\n",
              "  114,\n",
              "  115,\n",
              "  61,\n",
              "  65,\n",
              "  68,\n",
              "  75,\n",
              "  78,\n",
              "  84,\n",
              "  87,\n",
              "  95,\n",
              "  97,\n",
              "  103,\n",
              "  120,\n",
              "  199,\n",
              "  195,\n",
              "  197,\n",
              "  129,\n",
              "  131,\n",
              "  147,\n",
              "  159,\n",
              "  125,\n",
              "  139,\n",
              "  133,\n",
              "  137,\n",
              "  157,\n",
              "  161,\n",
              "  153,\n",
              "  165,\n",
              "  187,\n",
              "  191,\n",
              "  169,\n",
              "  171,\n",
              "  177,\n",
              "  151,\n",
              "  123,\n",
              "  127,\n",
              "  145,\n",
              "  163,\n",
              "  135,\n",
              "  155,\n",
              "  141,\n",
              "  143,\n",
              "  149,\n",
              "  167,\n",
              "  173,\n",
              "  175,\n",
              "  179,\n",
              "  193,\n",
              "  185,\n",
              "  189,\n",
              "  181,\n",
              "  183,\n",
              "  198,\n",
              "  194,\n",
              "  196,\n",
              "  180,\n",
              "  184,\n",
              "  192,\n",
              "  186,\n",
              "  190,\n",
              "  182,\n",
              "  188,\n",
              "  156,\n",
              "  158,\n",
              "  162,\n",
              "  144,\n",
              "  134,\n",
              "  138,\n",
              "  126,\n",
              "  146,\n",
              "  160,\n",
              "  164,\n",
              "  170,\n",
              "  172,\n",
              "  148,\n",
              "  166,\n",
              "  168,\n",
              "  174,\n",
              "  176,\n",
              "  178,\n",
              "  128,\n",
              "  140,\n",
              "  130,\n",
              "  136,\n",
              "  154,\n",
              "  150,\n",
              "  152]}"
            ]
          },
          "metadata": {},
          "execution_count": 30
        },
        {
          "output_type": "display_data",
          "data": {
            "image/png": "[encoded data removed]",
            "text/plain": [
              "<Figure size 1440x1080 with 1 Axes>"
            ]
          },
          "metadata": {
            "needs_background": "light"
          }
        }
      ]
    },
    {
      "cell_type": "code",
      "metadata": {
        "id": "snXhkITJT6bP"
      },
      "source": [
        ""
      ],
      "execution_count": null,
      "outputs": []
    }
  ]
}